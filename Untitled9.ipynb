{
 "cells": [
  {
   "cell_type": "code",
   "execution_count": 1,
   "id": "7224547f-c38e-45e9-91b7-689325bb937d",
   "metadata": {},
   "outputs": [],
   "source": [
    "#Q1. Which function is used to open a file? What are the different modes of opening a file? Explain each mode of file opening.\n",
    "#The open() function is used to open a file. When opening a file, you can specify the mode in which the file should be opened. The different modes are:\n",
    "\n",
    "#'r': Read mode is used when you only want to read the file. This is the default mode.\n",
    "\n",
    "#'w': Write mode is used when you want to write to the file. If the file already exists, the content is truncated (deleted). If the file does not exist, a new file is created.\n",
    "\n",
    "#'a': Append mode is used when you want to append data to the end of an existing file. If the file does not exist, a new file is created.\n",
    "\n",
    "#'x': Exclusive creation mode is used when you want to create a new file but only if the file does not already exist. If the file exists, the FileExistsError is raised.\n",
    "\n",
    "#'b': Binary mode is used when you want to read or write binary data. When used in combination with other modes, it should be appended as a suffix to the mode string. For example, 'wb' for write in binary mode, or 'rb' for read in binary mode.\n",
    "\n",
    "#'t': Text mode is used when you want to read or write text data. When used in combination with other modes, it should be appended as a suffix to the mode string. For example, 'wt' for write in text mode, or 'rt' for read in text mode.\n",
    "\n",
    "#Here's an example of opening a file in read mode:"
   ]
  },
  {
   "cell_type": "code",
   "execution_count": 2,
   "id": "461411fe-7d81-44e1-8198-99d34464fb8b",
   "metadata": {},
   "outputs": [
    {
     "name": "stdout",
     "output_type": "stream",
     "text": [
      "<!-- ![ineuron-logo](https://user-images.githubusercontent.com/115527165/196935402-66c2496e-190d-4f67-9f6b-e42c06994999.png) -->\n",
      "# Jupyter lab\n",
      "- Execute the codes in each cell to get the output.\n",
      "\n"
     ]
    }
   ],
   "source": [
    "f = open(\"README.md\", \"r\")\n",
    "content = f.read()\n",
    "print(content)\n",
    "f.close()"
   ]
  },
  {
   "cell_type": "code",
   "execution_count": 3,
   "id": "a7f72e9a-3468-4bcf-8b7b-8f63270faf7d",
   "metadata": {},
   "outputs": [],
   "source": [
    "#Q2. Why close() function is used? Why is it important to close a file?\n",
    "#The close() function is used to close a file in Python. It's important to close a file after we're done with it because it \n",
    "#frees up resources on your computer and ensures that the file's data is saved correctly.\n",
    "\n",
    "#When a file is opened, the operating system reserves a specific amount of memory to hold the file's contents and to keep track\n",
    "#of where you are in the file (known as the file pointer). This memory is not freed until the file is closed, which means that\n",
    "#if you open a large number of files without closing them, your computer could run out of memory.\n",
    "\n",
    "#Furthermore, when you write to a file, the data is not immediately saved to the file on your hard drive. Instead, it's \n",
    "#temporarily stored in a buffer (a small area of memory) and is only saved to the file when the buffer is flushed (that is,\n",
    "#when it's full or when the file is closed). If we don't close the file, the data in the buffer may be lost if the program \n",
    "#terminates before the buffer is flushed.\n",
    "\n",
    "#Therefore, it's a best practice to always close a file after we're done with it, to avoid running out of memory and to ensure \n",
    "#that the file's data is saved correctly. This can be done using the close() method, as shown in the example I provided in my \n",
    "#previous answer. Another way to ensure that a file is closed is to use a with statement, which automatically closes the file \n",
    "#for you when the block of code is finished, even if an exception is raised:"
   ]
  },
  {
   "cell_type": "code",
   "execution_count": 4,
   "id": "641588d6-c20f-46f8-b6df-f4d388330b48",
   "metadata": {},
   "outputs": [],
   "source": [
    "#Q3. Write a python program to create a text file. Write ‘I want to become a Data Scientist’ in that file. Then close the file.\n",
    "#Open this file and read the content of the file.\n"
   ]
  },
  {
   "cell_type": "code",
   "execution_count": 5,
   "id": "f83f7d2b-c405-4ba4-a7d6-b0079f1334cb",
   "metadata": {},
   "outputs": [
    {
     "name": "stdout",
     "output_type": "stream",
     "text": [
      "I want to become a Data Scientist\n"
     ]
    }
   ],
   "source": [
    "# Create the file and write to it\n",
    "with open(\"sample.txt\", \"w\") as file:\n",
    "    file.write(\"I want to become a Data Scientist\")\n",
    "\n",
    "# Read the contents of the file\n",
    "with open(\"sample.txt\", \"r\") as file:\n",
    "    content = file.read()\n",
    "    print(content)\n",
    "file.close()"
   ]
  },
  {
   "cell_type": "code",
   "execution_count": 6,
   "id": "f24808a5-3dff-4a72-b4b0-d912d90c4ff5",
   "metadata": {},
   "outputs": [],
   "source": [
    "#Q4. Explain the following with python code: read(), readline() and readlines()."
   ]
  },
  {
   "cell_type": "code",
   "execution_count": 7,
   "id": "f72e9743-0c97-437f-8397-89453be8d982",
   "metadata": {},
   "outputs": [],
   "source": [
    "#read()\n",
    "#The read() method reads the entire contents of a file and returns it as a string. You can specify the number of characters you\n",
    "#want to read as an optional parameter. If you don't specify a number, the entire file is read. Here's an example:"
   ]
  },
  {
   "cell_type": "code",
   "execution_count": 8,
   "id": "f330c308-8157-43ce-b915-ff724b89049e",
   "metadata": {},
   "outputs": [
    {
     "name": "stdout",
     "output_type": "stream",
     "text": [
      "I want to become a Data Scientist\n"
     ]
    }
   ],
   "source": [
    "# Open a file for reading\n",
    "file = open('sample.txt', 'r')\n",
    "\n",
    "# Read the entire file\n",
    "content = file.read()\n",
    "\n",
    "# Close the file\n",
    "file.close()\n",
    "\n",
    "print(content)"
   ]
  },
  {
   "cell_type": "code",
   "execution_count": 9,
   "id": "fae337b5-5d2b-448a-af79-95ac265d758f",
   "metadata": {},
   "outputs": [
    {
     "name": "stdout",
     "output_type": "stream",
     "text": [
      "I want to become a Data Scientist\n",
      "\n"
     ]
    }
   ],
   "source": [
    "# Open a file for reading\n",
    "file = open('sample.txt', 'r')\n",
    "\n",
    "# Read the first line of the file\n",
    "line1 = file.readline()\n",
    "\n",
    "# Read the second line of the file\n",
    "line2 = file.readline()\n",
    "\n",
    "# Close the file\n",
    "file.close()\n",
    "\n",
    "print(line1)\n",
    "print(line2)"
   ]
  },
  {
   "cell_type": "code",
   "execution_count": 10,
   "id": "f1a01354-4abd-4c75-9f01-f62918c7645a",
   "metadata": {},
   "outputs": [],
   "source": [
    "#The readlines() method reads all the lines in a file and returns them as a list of strings. Each string in the list represents a line in the file. Here's an example:"
   ]
  },
  {
   "cell_type": "code",
   "execution_count": 11,
   "id": "71935ef2-5491-48e7-95c9-fe22d48bbdd0",
   "metadata": {},
   "outputs": [
    {
     "name": "stdout",
     "output_type": "stream",
     "text": [
      "I want to become a Data Scientist\n"
     ]
    }
   ],
   "source": [
    "# Open a file for reading\n",
    "file = open('sample.txt', 'r')\n",
    "\n",
    "# Read all the lines in the file\n",
    "lines = file.readlines()\n",
    "\n",
    "# Close the file\n",
    "file.close()\n",
    "\n",
    "# Print each line in the list\n",
    "for line in lines:\n",
    "    print(line)"
   ]
  },
  {
   "cell_type": "code",
   "execution_count": 12,
   "id": "dfb24cd1-02b2-45ba-82bc-ebdd752f43ce",
   "metadata": {},
   "outputs": [],
   "source": [
    "#Q5. Explain why with statement is used with open(). What is the advantage of using with statement and open() together?\n",
    "#In Python, the with statement is used in conjunction with open() function when working with files. The with statement is used \n",
    "#to ensure that a file is closed automatically after the block of code inside the with statement is executed, regardless of \n",
    "#whether the code finishes successfully or not. The with statement handles the closing of the file automatically, so you don't\n",
    "#have to worry about it. The with statement opens the file and assigns it to the file variable. The block of code inside the \n",
    "#with statement reads the contents of the file using the read() method, and prints it to the console. Once the block of code \n",
    "#is done executing, the with statement automatically closes the file.\n",
    "\n",
    "#The main advantage of using with statement and open() together is that it helps avoid common errors that can occur when \n",
    "#working with files, such as forgetting to close a file after opening it or not handling exceptions properly. By using the \n",
    "#with statement, you can ensure that the file is closed properly, even if an exception is raised during the execution of the \n",
    "#block of code.\n",
    "\n",
    "#In summary, using with statement and open() together provides a cleaner and safer way to work with files in Python, ensuring \n",
    "#that files are properly opened and closed and making the code easier to read and maintain."
   ]
  },
  {
   "cell_type": "code",
   "execution_count": 13,
   "id": "a9f9c11b-87cc-4f94-a344-d52cc01a8d63",
   "metadata": {},
   "outputs": [
    {
     "name": "stdout",
     "output_type": "stream",
     "text": [
      "I want to become a Data Scientist\n"
     ]
    }
   ],
   "source": [
    "with open('sample.txt', 'r') as file:\n",
    "    contents = file.read()\n",
    "    print(contents)"
   ]
  },
  {
   "cell_type": "code",
   "execution_count": 14,
   "id": "a4ba629b-7c21-4d1e-9369-ee0d51ed9178",
   "metadata": {},
   "outputs": [],
   "source": [
    "#Q6. Explain the write() and writelines() functions. Give a suitable example.\n",
    "#In Python, the write() and writelines() functions are used to write data to a file.\n",
    "\n",
    "#write() function The write() function is used to write a string to a file. It takes a single argument, which is the string to \n",
    "#be written to the file. Here's an example:"
   ]
  },
  {
   "cell_type": "code",
   "execution_count": 15,
   "id": "c58b36b9-291d-4edd-a480-8a9e3a19cb6f",
   "metadata": {},
   "outputs": [],
   "source": [
    "# Open a file for writing\n",
    "file = open('example.txt', 'w')\n",
    "\n",
    "# Write a string to the file\n",
    "file.write('Hello, world!\\n')\n",
    "\n",
    "# Close the file\n",
    "file.close()"
   ]
  },
  {
   "cell_type": "code",
   "execution_count": 16,
   "id": "af1718e9-9b91-4291-9394-afe5416c5413",
   "metadata": {},
   "outputs": [],
   "source": [
    "#writelines() function The writelines() function is used to write a list of strings to a file. It takes a single argument, \n",
    "#which is a list of strings to be written to the file. Here's an example:\n",
    "\n",
    "# Open a file for writing\n",
    "file = open('example.txt', 'w')\n",
    "\n",
    "# Write a list of strings to the file\n",
    "lines = ['Line 1\\n', 'Line 2\\n', 'Line 3\\n']\n",
    "file.writelines(lines)\n",
    "\n",
    "# Close the file\n",
    "file.close()"
   ]
  },
  {
   "cell_type": "code",
   "execution_count": null,
   "id": "57f4e68c-71f6-4a59-921e-d5896ebec882",
   "metadata": {},
   "outputs": [],
   "source": []
  }
 ],
 "metadata": {
  "kernelspec": {
   "display_name": "Python 3 (ipykernel)",
   "language": "python",
   "name": "python3"
  },
  "language_info": {
   "codemirror_mode": {
    "name": "ipython",
    "version": 3
   },
   "file_extension": ".py",
   "mimetype": "text/x-python",
   "name": "python",
   "nbconvert_exporter": "python",
   "pygments_lexer": "ipython3",
   "version": "3.10.8"
  }
 },
 "nbformat": 4,
 "nbformat_minor": 5
}
